{
  "nbformat": 4,
  "nbformat_minor": 0,
  "metadata": {
    "colab": {
      "provenance": []
    },
    "kernelspec": {
      "name": "python3",
      "display_name": "Python 3"
    },
    "language_info": {
      "name": "python"
    }
  },
  "cells": [
    {
      "cell_type": "code",
      "source": [
        "\n",
        "import pandas as pd\n",
        "from sklearn.model_selection import train_test_split\n",
        "from sklearn.linear_model import LinearRegression\n",
        "from sklearn.preprocessing import OneHotEncoder\n",
        "from sklearn.compose import ColumnTransformer\n",
        "from sklearn.pipeline import Pipeline\n",
        "from sklearn.metrics import mean_squared_error, r2_score\n",
        "from google.colab import files\n",
        "from sklearn.preprocessing import StandardScaler\n",
        "from sklearn.impute import SimpleImputer\n",
        "\n",
        "\n",
        "data = df\n",
        "\n",
        "\n",
        "print(\"Missing values in the dataset:\")\n",
        "print(data.isnull().sum())\n",
        "\n",
        "\n",
        "X = data[['name', 'company', 'year', 'kms_driven', 'fuel_type']]\n",
        "y = data['Price']\n",
        "\n",
        "\n",
        "X['year'] = pd.to_numeric(X['year'], errors='coerce')\n",
        "X['kms_driven'] = pd.to_numeric(X['kms_driven'], errors='coerce')\n",
        "\n",
        "\n",
        "y = y.str.replace(',', '')\n",
        "y = pd.to_numeric(y, errors='coerce')\n",
        "\n",
        "\n",
        "y = y.fillna(y.mean())\n",
        "\n",
        "\n",
        "X_train, X_test, y_train, y_test = train_test_split(X, y, test_size=0.2, random_state=42)\n",
        "\n",
        "\n",
        "numeric_transformer = Pipeline(steps=[\n",
        "    ('imputer', SimpleImputer(strategy='mean')),\n",
        "    ('scaler', StandardScaler())\n",
        "])\n",
        "\n",
        "\n",
        "preprocessor = ColumnTransformer(\n",
        "    transformers=[\n",
        "        ('num', numeric_transformer, ['year', 'kms_driven']),\n",
        "        ('cat', OneHotEncoder(handle_unknown='ignore'), ['name', 'company', 'fuel_type'])\n",
        "    ])\n",
        "\n",
        "model = Pipeline(steps=[('preprocessor', preprocessor),\n",
        "                         ('regressor', LinearRegression())])\n",
        "\n",
        "\n",
        "model.fit(X_train, y_train)\n",
        "\n",
        "\n",
        "y_pred = model.predict(X_test)\n",
        "\n",
        "\n",
        "mse = mean_squared_error(y_test, y_pred)\n",
        "r2 = r2_score(y_test, y_pred)\n",
        "\n",
        "print('Mean Squared Error:', mse)\n",
        "print('R-squared:', r2)\n",
        "\n",
        "example = pd.DataFrame({\n",
        "    'name': ['Ford EcoSport'],\n",
        "    'company': ['Ford'],\n",
        "    'year': [2017],\n",
        "    'kms_driven': [39000],\n",
        "    'fuel_type': ['Petrol']\n",
        "})\n",
        "\n",
        "predicted_price = model.predict(example)\n",
        "print('Predicted Price for car:', predicted_price[0])"
      ],
      "metadata": {
        "colab": {
          "base_uri": "https://localhost:8080/"
        },
        "id": "FswtrcYph7Eh",
        "outputId": "04368821-fee6-4bb5-fade-d83b7ef0dc2f"
      },
      "execution_count": 25,
      "outputs": [
        {
          "output_type": "stream",
          "name": "stdout",
          "text": [
            "Missing values in the dataset:\n",
            "name           0\n",
            "company        0\n",
            "year           0\n",
            "Price          0\n",
            "kms_driven    52\n",
            "fuel_type     55\n",
            "dtype: int64\n",
            "Mean Squared Error: 38097261006.51037\n",
            "R-squared: 0.6657668953574922\n",
            "Predicted Price for car: 490000.63535580435\n"
          ]
        },
        {
          "output_type": "stream",
          "name": "stderr",
          "text": [
            "<ipython-input-25-b186aaf53506>:24: SettingWithCopyWarning: \n",
            "A value is trying to be set on a copy of a slice from a DataFrame.\n",
            "Try using .loc[row_indexer,col_indexer] = value instead\n",
            "\n",
            "See the caveats in the documentation: https://pandas.pydata.org/pandas-docs/stable/user_guide/indexing.html#returning-a-view-versus-a-copy\n",
            "  X['year'] = pd.to_numeric(X['year'], errors='coerce')\n",
            "<ipython-input-25-b186aaf53506>:25: SettingWithCopyWarning: \n",
            "A value is trying to be set on a copy of a slice from a DataFrame.\n",
            "Try using .loc[row_indexer,col_indexer] = value instead\n",
            "\n",
            "See the caveats in the documentation: https://pandas.pydata.org/pandas-docs/stable/user_guide/indexing.html#returning-a-view-versus-a-copy\n",
            "  X['kms_driven'] = pd.to_numeric(X['kms_driven'], errors='coerce')\n",
            "/usr/local/lib/python3.10/dist-packages/sklearn/impute/_base.py:598: UserWarning: Skipping features without any observed values: ['kms_driven']. At least one non-missing value is needed for imputation with strategy='mean'.\n",
            "  warnings.warn(\n",
            "/usr/local/lib/python3.10/dist-packages/sklearn/impute/_base.py:598: UserWarning: Skipping features without any observed values: ['kms_driven']. At least one non-missing value is needed for imputation with strategy='mean'.\n",
            "  warnings.warn(\n",
            "/usr/local/lib/python3.10/dist-packages/sklearn/impute/_base.py:598: UserWarning: Skipping features without any observed values: ['kms_driven']. At least one non-missing value is needed for imputation with strategy='mean'.\n",
            "  warnings.warn(\n"
          ]
        }
      ]
    },
    {
      "cell_type": "code",
      "source": [
        "from sklearn.metrics import mean_squared_error, r2_score\n",
        "\n",
        "mse = mean_squared_error(y_test, y_pred)\n",
        "r2 = r2_score(y_test, y_pred)\n",
        "\n",
        "print('Mean Squared Error:', mse)\n",
        "print('R-squared:', r2)\n"
      ],
      "metadata": {
        "colab": {
          "base_uri": "https://localhost:8080/"
        },
        "id": "i_ZLbj4bjq4j",
        "outputId": "45135c7e-e62e-4315-ef37-97f3eb582142"
      },
      "execution_count": 23,
      "outputs": [
        {
          "output_type": "stream",
          "name": "stdout",
          "text": [
            "Mean Squared Error: 38097261006.51037\n",
            "R-squared: 0.6657668953574922\n"
          ]
        }
      ]
    }
  ]
}